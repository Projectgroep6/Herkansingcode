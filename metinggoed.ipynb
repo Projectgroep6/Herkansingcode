{
 "cells": [
  {
   "cell_type": "code",
   "execution_count": 136,
   "id": "bdec72c4",
   "metadata": {},
   "outputs": [
    {
     "data": {
      "text/plain": [
       "   0 Microsoft-geluidstoewijzing - Input, MME (2 in, 0 out)\n",
       ">  1 Microfoon (USB Audio Device ), MME (2 in, 0 out)\n",
       "   2 Microphone Array (Realtek(R) Au, MME (2 in, 0 out)\n",
       "   3 Microsoft-geluidstoewijzing - Output, MME (0 in, 2 out)\n",
       "<  4 Speakers (Realtek(R) Audio), MME (0 in, 2 out)\n",
       "   5 Luidsprekers (USB Audio Device , MME (0 in, 2 out)\n",
       "   6 Headphones (Realtek HD Audio 2nd output), Windows WDM-KS (0 in, 2 out)\n",
       "   7 Microfoonmatrix (Realtek HD Audio Mic input), Windows WDM-KS (2 in, 0 out)\n",
       "   8 Mic in at front panel (black) (Mic in at front panel (black)), Windows WDM-KS (2 in, 0 out)\n",
       "   9 Speakers 1 (Realtek HD Audio output with HAP), Windows WDM-KS (0 in, 2 out)\n",
       "  10 Speakers 2 (Realtek HD Audio output with HAP), Windows WDM-KS (0 in, 2 out)\n",
       "  11 Pc-luidspreker (Realtek HD Audio output with HAP), Windows WDM-KS (2 in, 0 out)\n",
       "  12 Stereo-mix (Realtek HD Audio Stereo input), Windows WDM-KS (2 in, 0 out)\n",
       "  13 Luidsprekers (USB Audio Device), Windows WDM-KS (0 in, 2 out)\n",
       "  14 Microfoon (USB Audio Device), Windows WDM-KS (2 in, 0 out)"
      ]
     },
     "execution_count": 136,
     "metadata": {},
     "output_type": "execute_result"
    }
   ],
   "source": [
    "import sounddevice as sd\n",
    "import matplotlib.pyplot as plt\n",
    "import numpy as np\n",
    "from mijngeluid import fft_partitioned\n",
    "\n",
    "sd.query_devices()"
   ]
  },
  {
   "cell_type": "code",
   "execution_count": 131,
   "id": "0c9964e8",
   "metadata": {},
   "outputs": [
    {
     "data": {
      "text/plain": [
       "(441000, 1)"
      ]
     },
     "execution_count": 131,
     "metadata": {},
     "output_type": "execute_result"
    }
   ],
   "source": [
    "fs = 44100 # sample rate, zie microfoon specificaties\n",
    "duration = 10 # in seconden\n",
    "arr = sd.rec(int(duration * fs), samplerate=fs, channels=1, dtype='float64', device=14) # <- verander hier het getal zoals aangegeven bij stap 10, neemt op in de achtergrond\n",
    "sd.wait() #zorgt dat de code wacht met het resultaat\n",
    "\n",
    "arr.shape #geeft het resultaat"
   ]
  },
  {
   "cell_type": "code",
   "execution_count": 127,
   "id": "b36b6ba9",
   "metadata": {},
   "outputs": [
    {
     "data": {
      "text/html": [
       "<div>\n",
       "<style scoped>\n",
       "    .dataframe tbody tr th:only-of-type {\n",
       "        vertical-align: middle;\n",
       "    }\n",
       "\n",
       "    .dataframe tbody tr th {\n",
       "        vertical-align: top;\n",
       "    }\n",
       "\n",
       "    .dataframe thead th {\n",
       "        text-align: right;\n",
       "    }\n",
       "</style>\n",
       "<table border=\"1\" class=\"dataframe\">\n",
       "  <thead>\n",
       "    <tr style=\"text-align: right;\">\n",
       "      <th></th>\n",
       "      <th>t</th>\n",
       "      <th>x</th>\n",
       "      <th>y</th>\n",
       "      <th>I</th>\n",
       "    </tr>\n",
       "  </thead>\n",
       "  <tbody>\n",
       "    <tr>\n",
       "      <th>0</th>\n",
       "      <td>0.01</td>\n",
       "      <td>0.000000</td>\n",
       "      <td>0.000557</td>\n",
       "      <td>87.462309</td>\n",
       "    </tr>\n",
       "    <tr>\n",
       "      <th>1</th>\n",
       "      <td>0.01</td>\n",
       "      <td>100.684932</td>\n",
       "      <td>0.000190</td>\n",
       "      <td>82.786039</td>\n",
       "    </tr>\n",
       "    <tr>\n",
       "      <th>2</th>\n",
       "      <td>0.01</td>\n",
       "      <td>201.369863</td>\n",
       "      <td>0.000225</td>\n",
       "      <td>83.529650</td>\n",
       "    </tr>\n",
       "    <tr>\n",
       "      <th>3</th>\n",
       "      <td>0.01</td>\n",
       "      <td>302.054795</td>\n",
       "      <td>0.000130</td>\n",
       "      <td>81.152835</td>\n",
       "    </tr>\n",
       "    <tr>\n",
       "      <th>4</th>\n",
       "      <td>0.01</td>\n",
       "      <td>402.739726</td>\n",
       "      <td>0.000052</td>\n",
       "      <td>77.122573</td>\n",
       "    </tr>\n",
       "    <tr>\n",
       "      <th>...</th>\n",
       "      <td>...</td>\n",
       "      <td>...</td>\n",
       "      <td>...</td>\n",
       "      <td>...</td>\n",
       "    </tr>\n",
       "    <tr>\n",
       "      <th>215</th>\n",
       "      <td>10.00</td>\n",
       "      <td>21647.260274</td>\n",
       "      <td>0.000006</td>\n",
       "      <td>67.405772</td>\n",
       "    </tr>\n",
       "    <tr>\n",
       "      <th>216</th>\n",
       "      <td>10.00</td>\n",
       "      <td>21747.945205</td>\n",
       "      <td>0.000006</td>\n",
       "      <td>68.090892</td>\n",
       "    </tr>\n",
       "    <tr>\n",
       "      <th>217</th>\n",
       "      <td>10.00</td>\n",
       "      <td>21848.630137</td>\n",
       "      <td>0.000004</td>\n",
       "      <td>65.988544</td>\n",
       "    </tr>\n",
       "    <tr>\n",
       "      <th>218</th>\n",
       "      <td>10.00</td>\n",
       "      <td>21949.315068</td>\n",
       "      <td>0.000004</td>\n",
       "      <td>65.804501</td>\n",
       "    </tr>\n",
       "    <tr>\n",
       "      <th>219</th>\n",
       "      <td>10.00</td>\n",
       "      <td>22050.000000</td>\n",
       "      <td>0.000005</td>\n",
       "      <td>66.693142</td>\n",
       "    </tr>\n",
       "  </tbody>\n",
       "</table>\n",
       "<p>220000 rows × 4 columns</p>\n",
       "</div>"
      ],
      "text/plain": [
       "         t             x         y          I\n",
       "0     0.01      0.000000  0.000557  87.462309\n",
       "1     0.01    100.684932  0.000190  82.786039\n",
       "2     0.01    201.369863  0.000225  83.529650\n",
       "3     0.01    302.054795  0.000130  81.152835\n",
       "4     0.01    402.739726  0.000052  77.122573\n",
       "..     ...           ...       ...        ...\n",
       "215  10.00  21647.260274  0.000006  67.405772\n",
       "216  10.00  21747.945205  0.000006  68.090892\n",
       "217  10.00  21848.630137  0.000004  65.988544\n",
       "218  10.00  21949.315068  0.000004  65.804501\n",
       "219  10.00  22050.000000  0.000005  66.693142\n",
       "\n",
       "[220000 rows x 4 columns]"
      ]
     },
     "execution_count": 127,
     "metadata": {},
     "output_type": "execute_result"
    }
   ],
   "source": [
    "df = fft_partitioned(arr[:,0], fs, duration, t_bin=1e-2) # maakt een tabel die je hieronder kan zien na het uitvoeren van deze code, t_bin is de bin grootte in seconden\n",
    "df[\"I\"]= 10*np.log10(df[\"y\"] / 10**-12) # maakt van de geluidsintensiteit in a.u. (arbitrary units), geluidsintensiteit in dB\n",
    "df #laat de tabel zien"
   ]
  },
  {
   "cell_type": "code",
   "execution_count": 139,
   "id": "3e872369",
   "metadata": {},
   "outputs": [
    {
     "data": {
      "text/plain": [
       "(70.0, 110.0)"
      ]
     },
     "execution_count": 139,
     "metadata": {},
     "output_type": "execute_result"
    },
    {
     "data": {
      "image/png": "[encoded data removed]",
      "text/plain": [
       "<Figure size 432x288 with 1 Axes>"
      ]
     },
     "metadata": {
      "needs_background": "light"
     },
     "output_type": "display_data"
    }
   ],
   "source": [
    "plt.plot(df.t, df.I, 'r-') # maakt een grafiek van de tijd in seconde tegen de geluidsintensiteit in dB, r- zorgt voor de rode kleur\n",
    "plt.grid() #geeft lijntjes in de hele grafiek zodat aflezen makkelijker wordt\n",
    "plt.xlabel(r\"Tijd $t$ [s]\") #geeft een label bij de x-as\n",
    "plt.ylabel(r\"dB\") #geeft een label bij de y-as\n",
    "plt.xlim(4, 6) #de limieten die je zelf kan aanpassen naar eigen wens voor de x-as\n",
    "plt.ylim(70, 110) # \"\" \"\" voor de x-as"
   ]
  },
  {
   "cell_type": "code",
   "execution_count": null,
   "id": "2b147166",
   "metadata": {},
   "outputs": [],
   "source": []
  }
 ],
 "metadata": {
  "kernelspec": {
   "display_name": "Python 3 (ipykernel)",
   "language": "python",
   "name": "python3"
  },
  "language_info": {
   "codemirror_mode": {
    "name": "ipython",
    "version": 3
   },
   "file_extension": ".py",
   "mimetype": "text/x-python",
   "name": "python",
   "nbconvert_exporter": "python",
   "pygments_lexer": "ipython3",
   "version": "3.9.7"
  }
 },
 "nbformat": 4,
 "nbformat_minor": 5
}
